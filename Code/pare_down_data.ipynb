{
 "cells": [
  {
   "cell_type": "code",
   "execution_count": 3,
   "metadata": {},
   "outputs": [],
   "source": [
    "import pandas as pd"
   ]
  },
  {
   "cell_type": "code",
   "execution_count": null,
   "metadata": {},
   "outputs": [],
   "source": [
    "data_raw = pd.read_csv('./data/combined_data_1.txt', header = None, names = ['Cust_Id', 'Rating'], usecols = [0,1])\n",
    "data_raw['Rating'] = data_raw['Rating'].astype(float)"
   ]
  },
  {
   "cell_type": "code",
   "execution_count": null,
   "metadata": {},
   "outputs": [],
   "source": [
    "mask = pd.isna(data_raw)"
   ]
  },
  {
   "cell_type": "code",
   "execution_count": null,
   "metadata": {},
   "outputs": [],
   "source": [
    "filter_mask = mask.Rating.filter(items=[True])"
   ]
  },
  {
   "cell_type": "code",
   "execution_count": null,
   "metadata": {},
   "outputs": [],
   "source": [
    "filter_mask"
   ]
  },
  {
   "cell_type": "code",
   "execution_count": 11,
   "metadata": {},
   "outputs": [],
   "source": [
    "def load_and_reduce(filenames):\n",
    "    with open('./data/small_combined_data_1.txt', 'w') as output_file:\n",
    "        # Reset output file\n",
    "        output_file.flush()\n",
    "        for filename in filenames:\n",
    "            with open(filename, 'r') as input_file:\n",
    "                \n",
    "                # line_num = 0\n",
    "                count = 0\n",
    "                write = True\n",
    "                for line in input_file:\n",
    "                    # if (line_num >= 10000):\n",
    "                    #     break\n",
    "\n",
    "                    if (line[-2] == ':'):\n",
    "                        count = 0\n",
    "                        write = True\n",
    "\n",
    "                    if (write):\n",
    "                        output_file.write(line)\n",
    "\n",
    "                    if (count >= 10):\n",
    "                        write = False\n",
    "\n",
    "                    count += 1\n",
    "                    # line_num += 1"
   ]
  },
  {
   "cell_type": "code",
   "execution_count": 12,
   "metadata": {},
   "outputs": [],
   "source": [
    "datafiles = ['./data/combined_data_1.txt', './data/combined_data_2.txt', './data/combined_data_3.txt', './data/combined_data_4.txt']\n",
    "load_and_reduce(datafiles)"
   ]
  },
  {
   "cell_type": "code",
   "execution_count": null,
   "metadata": {},
   "outputs": [],
   "source": []
  }
 ],
 "metadata": {
  "interpreter": {
   "hash": "41d03f06705265104379471cdaa41de590498da5c19e86f84e10729a8e09410c"
  },
  "kernelspec": {
   "display_name": "Python 3.10.0 ('default')",
   "language": "python",
   "name": "python3"
  },
  "language_info": {
   "codemirror_mode": {
    "name": "ipython",
    "version": 3
   },
   "file_extension": ".py",
   "mimetype": "text/x-python",
   "name": "python",
   "nbconvert_exporter": "python",
   "pygments_lexer": "ipython3",
   "version": "3.10.0"
  },
  "orig_nbformat": 4
 },
 "nbformat": 4,
 "nbformat_minor": 2
}
