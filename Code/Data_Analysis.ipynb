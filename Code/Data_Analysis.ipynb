{
 "cells": [
  {
   "cell_type": "code",
   "execution_count": 1,
   "metadata": {},
   "outputs": [],
   "source": [
    "import numpy as np\n",
    "import pandas as pd\n",
    "import plotly.express as px\n",
    "from typing import List\n",
    "from datetime import datetime"
   ]
  },
  {
   "cell_type": "code",
   "execution_count": 2,
   "metadata": {},
   "outputs": [],
   "source": [
    "def load_data(filepaths: List[str], import_date=False):\n",
    "    '''Generate a list of all data entries from the given list of file paths\n",
    "    '''\n",
    "    data = dict(\n",
    "        item_id=[],\n",
    "        user_id=[],\n",
    "        item_index=[],\n",
    "        user_index=[],\n",
    "        rating=[]\n",
    "    )\n",
    "    if import_date:\n",
    "        data['date'] = []\n",
    "    user_id_map = {}\n",
    "    item_id_map = {}\n",
    "    item_id = 0\n",
    "    # max_user_id = 0\n",
    "    # max_item_id = 0\n",
    "    for fname in filepaths:\n",
    "        with open(fname, 'r') as input_file:\n",
    "            for line in input_file:\n",
    "                if line[-2] == ':':\n",
    "                    # Set item_id when we encouter a new section of the data\n",
    "                    item_id = int(line[:-2])\n",
    "                else:\n",
    "                    # Line has a user rating in it, capture the values and store in array\n",
    "                    [user_id, rating, date] = line.split(',')\n",
    "                    user_id = int(user_id)\n",
    "                    if import_date:\n",
    "                        date = datetime.strptime(date.rstrip(), '%Y-%m-%d')\n",
    "\n",
    "                    if (not item_id in item_id_map):\n",
    "                        item_id_map[item_id] = len(item_id_map)\n",
    "                    if (not user_id in user_id_map):\n",
    "                        user_id_map[user_id] = len(user_id_map)\n",
    "\n",
    "                    rating = float(rating)\n",
    "                    \n",
    "                    # if user_id > max_user_id:\n",
    "                    #     max_user_id = user_id\n",
    "                    # if item_id > max_item_id:\n",
    "                    #     max_item_id = item_id\n",
    "                    # data.append(DataPoint(item_id, user_id, rating))\n",
    "\n",
    "                    data['item_id'].append(item_id)\n",
    "                    data['user_id'].append(user_id)\n",
    "                    data['item_index'].append(item_id_map[item_id])\n",
    "                    data['user_index'].append(user_id_map[user_id])\n",
    "                    data['rating'].append(rating)\n",
    "                    if import_date:\n",
    "                        data['date'].append(date)\n",
    "    data = pd.DataFrame(data)\n",
    "    return (dict(\n",
    "        n_items=len(item_id_map),\n",
    "        n_users=len(user_id_map),\n",
    "        data=data\n",
    "    ),\n",
    "    user_id_map,\n",
    "    item_id_map)"
   ]
  },
  {
   "cell_type": "code",
   "execution_count": 12,
   "metadata": {},
   "outputs": [
    {
     "name": "stdout",
     "output_type": "stream",
     "text": [
      "{'n_items': 17770, 'n_users': 480189, 'data':            item_id  user_id  item_index  user_index  rating       date\n",
      "0                1  1488844           0           0     3.0 2005-09-06\n",
      "1                1   822109           0           1     5.0 2005-05-13\n",
      "2                1   885013           0           2     4.0 2005-10-19\n",
      "3                1    30878           0           3     4.0 2005-12-26\n",
      "4                1   823519           0           4     3.0 2004-05-03\n",
      "...            ...      ...         ...         ...     ...        ...\n",
      "100480502    17770  1790158       17769         542     4.0 2005-11-01\n",
      "100480503    17770  1608708       17769       29273     3.0 2005-07-19\n",
      "100480504    17770   234275       17769       29251     1.0 2004-08-07\n",
      "100480505    17770   255278       17769       22793     4.0 2004-05-28\n",
      "100480506    17770   453585       17769       76269     2.0 2005-03-10\n",
      "\n",
      "[100480507 rows x 6 columns]}\n"
     ]
    }
   ],
   "source": [
    "datafiles = ['./data/combined_data_1.txt', './data/combined_data_2.txt', './data/combined_data_3.txt', './data/combined_data_4.txt']\n",
    "(dataset, user_id_map, item_id_map) = load_data(datafiles, import_date=True)\n",
    "# (dataset, user_id_map, item_id_map) = load_data(['./data/small_combined_data_1.txt'], import_date=True)\n",
    "print(dataset)"
   ]
  },
  {
   "cell_type": "code",
   "execution_count": null,
   "metadata": {},
   "outputs": [],
   "source": [
    "px.bar((dataset['data']))"
   ]
  },
  {
   "cell_type": "code",
   "execution_count": 7,
   "metadata": {},
   "outputs": [
    {
     "data": {
      "text/plain": [
       "100480507"
      ]
     },
     "execution_count": 7,
     "metadata": {},
     "output_type": "execute_result"
    }
   ],
   "source": [
    "dataset['data']['rating'].size"
   ]
  },
  {
   "cell_type": "code",
   "execution_count": 9,
   "metadata": {},
   "outputs": [
    {
     "data": {
      "text/plain": [
       "2649429"
      ]
     },
     "execution_count": 9,
     "metadata": {},
     "output_type": "execute_result"
    }
   ],
   "source": [
    "np.max(dataset['data']['user_id'])"
   ]
  },
  {
   "cell_type": "code",
   "execution_count": 13,
   "metadata": {},
   "outputs": [
    {
     "ename": "KeyboardInterrupt",
     "evalue": "",
     "output_type": "error",
     "traceback": [
      "\u001b[0;31m---------------------------------------------------------------------------\u001b[0m",
      "\u001b[0;31mNotEncodable\u001b[0m                              Traceback (most recent call last)",
      "File \u001b[0;32m~/miniconda3/envs/default/lib/python3.10/site-packages/_plotly_utils/utils.py:133\u001b[0m, in \u001b[0;36mPlotlyJSONEncoder.default\u001b[0;34m(self, obj)\u001b[0m\n\u001b[1;32m    <a href='file:///Users/matthewteta/miniconda3/envs/default/lib/python3.10/site-packages/_plotly_utils/utils.py?line=131'>132</a>\u001b[0m \u001b[39mtry\u001b[39;00m:\n\u001b[0;32m--> <a href='file:///Users/matthewteta/miniconda3/envs/default/lib/python3.10/site-packages/_plotly_utils/utils.py?line=132'>133</a>\u001b[0m     \u001b[39mreturn\u001b[39;00m encoding_method(obj)\n\u001b[1;32m    <a href='file:///Users/matthewteta/miniconda3/envs/default/lib/python3.10/site-packages/_plotly_utils/utils.py?line=133'>134</a>\u001b[0m \u001b[39mexcept\u001b[39;00m NotEncodable:\n",
      "File \u001b[0;32m~/miniconda3/envs/default/lib/python3.10/site-packages/_plotly_utils/utils.py:195\u001b[0m, in \u001b[0;36mPlotlyJSONEncoder.encode_as_numpy\u001b[0;34m(obj)\u001b[0m\n\u001b[1;32m    <a href='file:///Users/matthewteta/miniconda3/envs/default/lib/python3.10/site-packages/_plotly_utils/utils.py?line=192'>193</a>\u001b[0m         \u001b[39mpass\u001b[39;00m\n\u001b[0;32m--> <a href='file:///Users/matthewteta/miniconda3/envs/default/lib/python3.10/site-packages/_plotly_utils/utils.py?line=194'>195</a>\u001b[0m \u001b[39mraise\u001b[39;00m NotEncodable\n",
      "\u001b[0;31mNotEncodable\u001b[0m: ",
      "\nDuring handling of the above exception, another exception occurred:\n",
      "\u001b[0;31mKeyboardInterrupt\u001b[0m                         Traceback (most recent call last)",
      "\u001b[1;32m/Users/matthewteta/Documents/_School/College/Spring2022/APPM3310/Project/Code/Data_Analysis.ipynb Cell 7'\u001b[0m in \u001b[0;36m<module>\u001b[0;34m\u001b[0m\n\u001b[0;32m----> <a href='vscode-notebook-cell:/Users/matthewteta/Documents/_School/College/Spring2022/APPM3310/Project/Code/Data_Analysis.ipynb#ch0000006?line=0'>1</a>\u001b[0m px\u001b[39m.\u001b[39mhistogram(dataset[\u001b[39m'\u001b[39m\u001b[39mdata\u001b[39m\u001b[39m'\u001b[39m], x\u001b[39m=\u001b[39m\u001b[39m'\u001b[39m\u001b[39mdate\u001b[39m\u001b[39m'\u001b[39m)\n",
      "File \u001b[0;32m~/miniconda3/envs/default/lib/python3.10/site-packages/IPython/core/displayhook.py:262\u001b[0m, in \u001b[0;36mDisplayHook.__call__\u001b[0;34m(self, result)\u001b[0m\n\u001b[1;32m    <a href='file:///Users/matthewteta/miniconda3/envs/default/lib/python3.10/site-packages/IPython/core/displayhook.py?line=259'>260</a>\u001b[0m \u001b[39mself\u001b[39m\u001b[39m.\u001b[39mstart_displayhook()\n\u001b[1;32m    <a href='file:///Users/matthewteta/miniconda3/envs/default/lib/python3.10/site-packages/IPython/core/displayhook.py?line=260'>261</a>\u001b[0m \u001b[39mself\u001b[39m\u001b[39m.\u001b[39mwrite_output_prompt()\n\u001b[0;32m--> <a href='file:///Users/matthewteta/miniconda3/envs/default/lib/python3.10/site-packages/IPython/core/displayhook.py?line=261'>262</a>\u001b[0m format_dict, md_dict \u001b[39m=\u001b[39m \u001b[39mself\u001b[39;49m\u001b[39m.\u001b[39;49mcompute_format_data(result)\n\u001b[1;32m    <a href='file:///Users/matthewteta/miniconda3/envs/default/lib/python3.10/site-packages/IPython/core/displayhook.py?line=262'>263</a>\u001b[0m \u001b[39mself\u001b[39m\u001b[39m.\u001b[39mupdate_user_ns(result)\n\u001b[1;32m    <a href='file:///Users/matthewteta/miniconda3/envs/default/lib/python3.10/site-packages/IPython/core/displayhook.py?line=263'>264</a>\u001b[0m \u001b[39mself\u001b[39m\u001b[39m.\u001b[39mfill_exec_result(result)\n",
      "File \u001b[0;32m~/miniconda3/envs/default/lib/python3.10/site-packages/IPython/core/displayhook.py:151\u001b[0m, in \u001b[0;36mDisplayHook.compute_format_data\u001b[0;34m(self, result)\u001b[0m\n\u001b[1;32m    <a href='file:///Users/matthewteta/miniconda3/envs/default/lib/python3.10/site-packages/IPython/core/displayhook.py?line=120'>121</a>\u001b[0m \u001b[39mdef\u001b[39;00m \u001b[39mcompute_format_data\u001b[39m(\u001b[39mself\u001b[39m, result):\n\u001b[1;32m    <a href='file:///Users/matthewteta/miniconda3/envs/default/lib/python3.10/site-packages/IPython/core/displayhook.py?line=121'>122</a>\u001b[0m     \u001b[39m\"\"\"Compute format data of the object to be displayed.\u001b[39;00m\n\u001b[1;32m    <a href='file:///Users/matthewteta/miniconda3/envs/default/lib/python3.10/site-packages/IPython/core/displayhook.py?line=122'>123</a>\u001b[0m \n\u001b[1;32m    <a href='file:///Users/matthewteta/miniconda3/envs/default/lib/python3.10/site-packages/IPython/core/displayhook.py?line=123'>124</a>\u001b[0m \u001b[39m    The format data is a generalization of the :func:`repr` of an object.\u001b[39;00m\n\u001b[0;32m   (...)\u001b[0m\n\u001b[1;32m    <a href='file:///Users/matthewteta/miniconda3/envs/default/lib/python3.10/site-packages/IPython/core/displayhook.py?line=148'>149</a>\u001b[0m \n\u001b[1;32m    <a href='file:///Users/matthewteta/miniconda3/envs/default/lib/python3.10/site-packages/IPython/core/displayhook.py?line=149'>150</a>\u001b[0m \u001b[39m    \"\"\"\u001b[39;00m\n\u001b[0;32m--> <a href='file:///Users/matthewteta/miniconda3/envs/default/lib/python3.10/site-packages/IPython/core/displayhook.py?line=150'>151</a>\u001b[0m     \u001b[39mreturn\u001b[39;00m \u001b[39mself\u001b[39;49m\u001b[39m.\u001b[39;49mshell\u001b[39m.\u001b[39;49mdisplay_formatter\u001b[39m.\u001b[39;49mformat(result)\n",
      "File \u001b[0;32m~/miniconda3/envs/default/lib/python3.10/site-packages/IPython/core/formatters.py:144\u001b[0m, in \u001b[0;36mDisplayFormatter.format\u001b[0;34m(self, obj, include, exclude)\u001b[0m\n\u001b[1;32m    <a href='file:///Users/matthewteta/miniconda3/envs/default/lib/python3.10/site-packages/IPython/core/formatters.py?line=140'>141</a>\u001b[0m format_dict \u001b[39m=\u001b[39m {}\n\u001b[1;32m    <a href='file:///Users/matthewteta/miniconda3/envs/default/lib/python3.10/site-packages/IPython/core/formatters.py?line=141'>142</a>\u001b[0m md_dict \u001b[39m=\u001b[39m {}\n\u001b[0;32m--> <a href='file:///Users/matthewteta/miniconda3/envs/default/lib/python3.10/site-packages/IPython/core/formatters.py?line=143'>144</a>\u001b[0m \u001b[39mif\u001b[39;00m \u001b[39mself\u001b[39;49m\u001b[39m.\u001b[39;49mipython_display_formatter(obj):\n\u001b[1;32m    <a href='file:///Users/matthewteta/miniconda3/envs/default/lib/python3.10/site-packages/IPython/core/formatters.py?line=144'>145</a>\u001b[0m     \u001b[39m# object handled itself, don't proceed\u001b[39;00m\n\u001b[1;32m    <a href='file:///Users/matthewteta/miniconda3/envs/default/lib/python3.10/site-packages/IPython/core/formatters.py?line=145'>146</a>\u001b[0m     \u001b[39mreturn\u001b[39;00m {}, {}\n\u001b[1;32m    <a href='file:///Users/matthewteta/miniconda3/envs/default/lib/python3.10/site-packages/IPython/core/formatters.py?line=147'>148</a>\u001b[0m format_dict, md_dict \u001b[39m=\u001b[39m \u001b[39mself\u001b[39m\u001b[39m.\u001b[39mmimebundle_formatter(obj, include\u001b[39m=\u001b[39minclude, exclude\u001b[39m=\u001b[39mexclude)\n",
      "File \u001b[0;32m~/miniconda3/envs/default/lib/python3.10/site-packages/decorator.py:232\u001b[0m, in \u001b[0;36mdecorate.<locals>.fun\u001b[0;34m(*args, **kw)\u001b[0m\n\u001b[1;32m    <a href='file:///Users/matthewteta/miniconda3/envs/default/lib/python3.10/site-packages/decorator.py?line=229'>230</a>\u001b[0m \u001b[39mif\u001b[39;00m \u001b[39mnot\u001b[39;00m kwsyntax:\n\u001b[1;32m    <a href='file:///Users/matthewteta/miniconda3/envs/default/lib/python3.10/site-packages/decorator.py?line=230'>231</a>\u001b[0m     args, kw \u001b[39m=\u001b[39m fix(args, kw, sig)\n\u001b[0;32m--> <a href='file:///Users/matthewteta/miniconda3/envs/default/lib/python3.10/site-packages/decorator.py?line=231'>232</a>\u001b[0m \u001b[39mreturn\u001b[39;00m caller(func, \u001b[39m*\u001b[39;49m(extras \u001b[39m+\u001b[39;49m args), \u001b[39m*\u001b[39;49m\u001b[39m*\u001b[39;49mkw)\n",
      "File \u001b[0;32m~/miniconda3/envs/default/lib/python3.10/site-packages/IPython/core/formatters.py:222\u001b[0m, in \u001b[0;36mcatch_format_error\u001b[0;34m(method, self, *args, **kwargs)\u001b[0m\n\u001b[1;32m    <a href='file:///Users/matthewteta/miniconda3/envs/default/lib/python3.10/site-packages/IPython/core/formatters.py?line=219'>220</a>\u001b[0m \u001b[39m\"\"\"show traceback on failed format call\"\"\"\u001b[39;00m\n\u001b[1;32m    <a href='file:///Users/matthewteta/miniconda3/envs/default/lib/python3.10/site-packages/IPython/core/formatters.py?line=220'>221</a>\u001b[0m \u001b[39mtry\u001b[39;00m:\n\u001b[0;32m--> <a href='file:///Users/matthewteta/miniconda3/envs/default/lib/python3.10/site-packages/IPython/core/formatters.py?line=221'>222</a>\u001b[0m     r \u001b[39m=\u001b[39m method(\u001b[39mself\u001b[39;49m, \u001b[39m*\u001b[39;49margs, \u001b[39m*\u001b[39;49m\u001b[39m*\u001b[39;49mkwargs)\n\u001b[1;32m    <a href='file:///Users/matthewteta/miniconda3/envs/default/lib/python3.10/site-packages/IPython/core/formatters.py?line=222'>223</a>\u001b[0m \u001b[39mexcept\u001b[39;00m \u001b[39mNotImplementedError\u001b[39;00m:\n\u001b[1;32m    <a href='file:///Users/matthewteta/miniconda3/envs/default/lib/python3.10/site-packages/IPython/core/formatters.py?line=223'>224</a>\u001b[0m     \u001b[39m# don't warn on NotImplementedErrors\u001b[39;00m\n\u001b[1;32m    <a href='file:///Users/matthewteta/miniconda3/envs/default/lib/python3.10/site-packages/IPython/core/formatters.py?line=224'>225</a>\u001b[0m     \u001b[39mreturn\u001b[39;00m \u001b[39mself\u001b[39m\u001b[39m.\u001b[39m_check_return(\u001b[39mNone\u001b[39;00m, args[\u001b[39m0\u001b[39m])\n",
      "File \u001b[0;32m~/miniconda3/envs/default/lib/python3.10/site-packages/IPython/core/formatters.py:921\u001b[0m, in \u001b[0;36mIPythonDisplayFormatter.__call__\u001b[0;34m(self, obj)\u001b[0m\n\u001b[1;32m    <a href='file:///Users/matthewteta/miniconda3/envs/default/lib/python3.10/site-packages/IPython/core/formatters.py?line=918'>919</a>\u001b[0m method \u001b[39m=\u001b[39m get_real_method(obj, \u001b[39mself\u001b[39m\u001b[39m.\u001b[39mprint_method)\n\u001b[1;32m    <a href='file:///Users/matthewteta/miniconda3/envs/default/lib/python3.10/site-packages/IPython/core/formatters.py?line=919'>920</a>\u001b[0m \u001b[39mif\u001b[39;00m method \u001b[39mis\u001b[39;00m \u001b[39mnot\u001b[39;00m \u001b[39mNone\u001b[39;00m:\n\u001b[0;32m--> <a href='file:///Users/matthewteta/miniconda3/envs/default/lib/python3.10/site-packages/IPython/core/formatters.py?line=920'>921</a>\u001b[0m     method()\n\u001b[1;32m    <a href='file:///Users/matthewteta/miniconda3/envs/default/lib/python3.10/site-packages/IPython/core/formatters.py?line=921'>922</a>\u001b[0m     \u001b[39mreturn\u001b[39;00m \u001b[39mTrue\u001b[39;00m\n",
      "File \u001b[0;32m~/miniconda3/envs/default/lib/python3.10/site-packages/plotly/basedatatypes.py:844\u001b[0m, in \u001b[0;36mBaseFigure._ipython_display_\u001b[0;34m(self)\u001b[0m\n\u001b[1;32m    <a href='file:///Users/matthewteta/miniconda3/envs/default/lib/python3.10/site-packages/plotly/basedatatypes.py?line=840'>841</a>\u001b[0m \u001b[39mimport\u001b[39;00m \u001b[39mplotly\u001b[39;00m\u001b[39m.\u001b[39;00m\u001b[39mio\u001b[39;00m \u001b[39mas\u001b[39;00m \u001b[39mpio\u001b[39;00m\n\u001b[1;32m    <a href='file:///Users/matthewteta/miniconda3/envs/default/lib/python3.10/site-packages/plotly/basedatatypes.py?line=842'>843</a>\u001b[0m \u001b[39mif\u001b[39;00m pio\u001b[39m.\u001b[39mrenderers\u001b[39m.\u001b[39mrender_on_display \u001b[39mand\u001b[39;00m pio\u001b[39m.\u001b[39mrenderers\u001b[39m.\u001b[39mdefault:\n\u001b[0;32m--> <a href='file:///Users/matthewteta/miniconda3/envs/default/lib/python3.10/site-packages/plotly/basedatatypes.py?line=843'>844</a>\u001b[0m     pio\u001b[39m.\u001b[39;49mshow(\u001b[39mself\u001b[39;49m)\n\u001b[1;32m    <a href='file:///Users/matthewteta/miniconda3/envs/default/lib/python3.10/site-packages/plotly/basedatatypes.py?line=844'>845</a>\u001b[0m \u001b[39melse\u001b[39;00m:\n\u001b[1;32m    <a href='file:///Users/matthewteta/miniconda3/envs/default/lib/python3.10/site-packages/plotly/basedatatypes.py?line=845'>846</a>\u001b[0m     \u001b[39mprint\u001b[39m(\u001b[39mrepr\u001b[39m(\u001b[39mself\u001b[39m))\n",
      "File \u001b[0;32m~/miniconda3/envs/default/lib/python3.10/site-packages/plotly/io/_renderers.py:389\u001b[0m, in \u001b[0;36mshow\u001b[0;34m(fig, renderer, validate, **kwargs)\u001b[0m\n\u001b[1;32m    <a href='file:///Users/matthewteta/miniconda3/envs/default/lib/python3.10/site-packages/plotly/io/_renderers.py?line=385'>386</a>\u001b[0m fig_dict \u001b[39m=\u001b[39m validate_coerce_fig_to_dict(fig, validate)\n\u001b[1;32m    <a href='file:///Users/matthewteta/miniconda3/envs/default/lib/python3.10/site-packages/plotly/io/_renderers.py?line=387'>388</a>\u001b[0m \u001b[39m# Mimetype renderers\u001b[39;00m\n\u001b[0;32m--> <a href='file:///Users/matthewteta/miniconda3/envs/default/lib/python3.10/site-packages/plotly/io/_renderers.py?line=388'>389</a>\u001b[0m bundle \u001b[39m=\u001b[39m renderers\u001b[39m.\u001b[39;49m_build_mime_bundle(fig_dict, renderers_string\u001b[39m=\u001b[39;49mrenderer, \u001b[39m*\u001b[39;49m\u001b[39m*\u001b[39;49mkwargs)\n\u001b[1;32m    <a href='file:///Users/matthewteta/miniconda3/envs/default/lib/python3.10/site-packages/plotly/io/_renderers.py?line=389'>390</a>\u001b[0m \u001b[39mif\u001b[39;00m bundle:\n\u001b[1;32m    <a href='file:///Users/matthewteta/miniconda3/envs/default/lib/python3.10/site-packages/plotly/io/_renderers.py?line=390'>391</a>\u001b[0m     \u001b[39mif\u001b[39;00m \u001b[39mnot\u001b[39;00m ipython_display:\n",
      "File \u001b[0;32m~/miniconda3/envs/default/lib/python3.10/site-packages/plotly/io/_renderers.py:297\u001b[0m, in \u001b[0;36mRenderersConfig._build_mime_bundle\u001b[0;34m(self, fig_dict, renderers_string, **kwargs)\u001b[0m\n\u001b[1;32m    <a href='file:///Users/matthewteta/miniconda3/envs/default/lib/python3.10/site-packages/plotly/io/_renderers.py?line=293'>294</a>\u001b[0m             \u001b[39mif\u001b[39;00m \u001b[39mhasattr\u001b[39m(renderer, k):\n\u001b[1;32m    <a href='file:///Users/matthewteta/miniconda3/envs/default/lib/python3.10/site-packages/plotly/io/_renderers.py?line=294'>295</a>\u001b[0m                 \u001b[39msetattr\u001b[39m(renderer, k, v)\n\u001b[0;32m--> <a href='file:///Users/matthewteta/miniconda3/envs/default/lib/python3.10/site-packages/plotly/io/_renderers.py?line=296'>297</a>\u001b[0m         bundle\u001b[39m.\u001b[39mupdate(renderer\u001b[39m.\u001b[39;49mto_mimebundle(fig_dict))\n\u001b[1;32m    <a href='file:///Users/matthewteta/miniconda3/envs/default/lib/python3.10/site-packages/plotly/io/_renderers.py?line=298'>299</a>\u001b[0m \u001b[39mreturn\u001b[39;00m bundle\n",
      "File \u001b[0;32m~/miniconda3/envs/default/lib/python3.10/site-packages/plotly/io/_base_renderers.py:96\u001b[0m, in \u001b[0;36mPlotlyRenderer.to_mimebundle\u001b[0;34m(self, fig_dict)\u001b[0m\n\u001b[1;32m     <a href='file:///Users/matthewteta/miniconda3/envs/default/lib/python3.10/site-packages/plotly/io/_base_renderers.py?line=91'>92</a>\u001b[0m \u001b[39mif\u001b[39;00m config:\n\u001b[1;32m     <a href='file:///Users/matthewteta/miniconda3/envs/default/lib/python3.10/site-packages/plotly/io/_base_renderers.py?line=92'>93</a>\u001b[0m     fig_dict[\u001b[39m\"\u001b[39m\u001b[39mconfig\u001b[39m\u001b[39m\"\u001b[39m] \u001b[39m=\u001b[39m config\n\u001b[1;32m     <a href='file:///Users/matthewteta/miniconda3/envs/default/lib/python3.10/site-packages/plotly/io/_base_renderers.py?line=94'>95</a>\u001b[0m json_compatible_fig_dict \u001b[39m=\u001b[39m json\u001b[39m.\u001b[39mloads(\n\u001b[0;32m---> <a href='file:///Users/matthewteta/miniconda3/envs/default/lib/python3.10/site-packages/plotly/io/_base_renderers.py?line=95'>96</a>\u001b[0m     to_json(fig_dict, validate\u001b[39m=\u001b[39;49m\u001b[39mFalse\u001b[39;49;00m, remove_uids\u001b[39m=\u001b[39;49m\u001b[39mFalse\u001b[39;49;00m)\n\u001b[1;32m     <a href='file:///Users/matthewteta/miniconda3/envs/default/lib/python3.10/site-packages/plotly/io/_base_renderers.py?line=96'>97</a>\u001b[0m )\n\u001b[1;32m     <a href='file:///Users/matthewteta/miniconda3/envs/default/lib/python3.10/site-packages/plotly/io/_base_renderers.py?line=98'>99</a>\u001b[0m \u001b[39mreturn\u001b[39;00m {\u001b[39m\"\u001b[39m\u001b[39mapplication/vnd.plotly.v1+json\u001b[39m\u001b[39m\"\u001b[39m: json_compatible_fig_dict}\n",
      "File \u001b[0;32m~/miniconda3/envs/default/lib/python3.10/site-packages/plotly/io/_json.py:197\u001b[0m, in \u001b[0;36mto_json\u001b[0;34m(fig, validate, pretty, remove_uids, engine)\u001b[0m\n\u001b[1;32m    <a href='file:///Users/matthewteta/miniconda3/envs/default/lib/python3.10/site-packages/plotly/io/_json.py?line=193'>194</a>\u001b[0m     \u001b[39mfor\u001b[39;00m trace \u001b[39min\u001b[39;00m fig_dict\u001b[39m.\u001b[39mget(\u001b[39m\"\u001b[39m\u001b[39mdata\u001b[39m\u001b[39m\"\u001b[39m, []):\n\u001b[1;32m    <a href='file:///Users/matthewteta/miniconda3/envs/default/lib/python3.10/site-packages/plotly/io/_json.py?line=194'>195</a>\u001b[0m         trace\u001b[39m.\u001b[39mpop(\u001b[39m\"\u001b[39m\u001b[39muid\u001b[39m\u001b[39m\"\u001b[39m, \u001b[39mNone\u001b[39;00m)\n\u001b[0;32m--> <a href='file:///Users/matthewteta/miniconda3/envs/default/lib/python3.10/site-packages/plotly/io/_json.py?line=196'>197</a>\u001b[0m \u001b[39mreturn\u001b[39;00m to_json_plotly(fig_dict, pretty\u001b[39m=\u001b[39;49mpretty, engine\u001b[39m=\u001b[39;49mengine)\n",
      "File \u001b[0;32m~/miniconda3/envs/default/lib/python3.10/site-packages/plotly/io/_json.py:124\u001b[0m, in \u001b[0;36mto_json_plotly\u001b[0;34m(plotly_object, pretty, engine)\u001b[0m\n\u001b[1;32m    <a href='file:///Users/matthewteta/miniconda3/envs/default/lib/python3.10/site-packages/plotly/io/_json.py?line=119'>120</a>\u001b[0m         opts[\u001b[39m\"\u001b[39m\u001b[39mseparators\u001b[39m\u001b[39m\"\u001b[39m] \u001b[39m=\u001b[39m (\u001b[39m\"\u001b[39m\u001b[39m,\u001b[39m\u001b[39m\"\u001b[39m, \u001b[39m\"\u001b[39m\u001b[39m:\u001b[39m\u001b[39m\"\u001b[39m)\n\u001b[1;32m    <a href='file:///Users/matthewteta/miniconda3/envs/default/lib/python3.10/site-packages/plotly/io/_json.py?line=121'>122</a>\u001b[0m     \u001b[39mfrom\u001b[39;00m \u001b[39m_plotly_utils\u001b[39;00m\u001b[39m.\u001b[39;00m\u001b[39mutils\u001b[39;00m \u001b[39mimport\u001b[39;00m PlotlyJSONEncoder\n\u001b[0;32m--> <a href='file:///Users/matthewteta/miniconda3/envs/default/lib/python3.10/site-packages/plotly/io/_json.py?line=123'>124</a>\u001b[0m     \u001b[39mreturn\u001b[39;00m json\u001b[39m.\u001b[39;49mdumps(plotly_object, \u001b[39mcls\u001b[39;49m\u001b[39m=\u001b[39;49mPlotlyJSONEncoder, \u001b[39m*\u001b[39;49m\u001b[39m*\u001b[39;49mopts)\n\u001b[1;32m    <a href='file:///Users/matthewteta/miniconda3/envs/default/lib/python3.10/site-packages/plotly/io/_json.py?line=124'>125</a>\u001b[0m \u001b[39melif\u001b[39;00m engine \u001b[39m==\u001b[39m \u001b[39m\"\u001b[39m\u001b[39morjson\u001b[39m\u001b[39m\"\u001b[39m:\n\u001b[1;32m    <a href='file:///Users/matthewteta/miniconda3/envs/default/lib/python3.10/site-packages/plotly/io/_json.py?line=125'>126</a>\u001b[0m     JsonConfig\u001b[39m.\u001b[39mvalidate_orjson()\n",
      "File \u001b[0;32m~/miniconda3/envs/default/lib/python3.10/json/__init__.py:238\u001b[0m, in \u001b[0;36mdumps\u001b[0;34m(obj, skipkeys, ensure_ascii, check_circular, allow_nan, cls, indent, separators, default, sort_keys, **kw)\u001b[0m\n\u001b[1;32m    <a href='file:///Users/matthewteta/miniconda3/envs/default/lib/python3.10/json/__init__.py?line=231'>232</a>\u001b[0m \u001b[39mif\u001b[39;00m \u001b[39mcls\u001b[39m \u001b[39mis\u001b[39;00m \u001b[39mNone\u001b[39;00m:\n\u001b[1;32m    <a href='file:///Users/matthewteta/miniconda3/envs/default/lib/python3.10/json/__init__.py?line=232'>233</a>\u001b[0m     \u001b[39mcls\u001b[39m \u001b[39m=\u001b[39m JSONEncoder\n\u001b[1;32m    <a href='file:///Users/matthewteta/miniconda3/envs/default/lib/python3.10/json/__init__.py?line=233'>234</a>\u001b[0m \u001b[39mreturn\u001b[39;00m \u001b[39mcls\u001b[39;49m(\n\u001b[1;32m    <a href='file:///Users/matthewteta/miniconda3/envs/default/lib/python3.10/json/__init__.py?line=234'>235</a>\u001b[0m     skipkeys\u001b[39m=\u001b[39;49mskipkeys, ensure_ascii\u001b[39m=\u001b[39;49mensure_ascii,\n\u001b[1;32m    <a href='file:///Users/matthewteta/miniconda3/envs/default/lib/python3.10/json/__init__.py?line=235'>236</a>\u001b[0m     check_circular\u001b[39m=\u001b[39;49mcheck_circular, allow_nan\u001b[39m=\u001b[39;49mallow_nan, indent\u001b[39m=\u001b[39;49mindent,\n\u001b[1;32m    <a href='file:///Users/matthewteta/miniconda3/envs/default/lib/python3.10/json/__init__.py?line=236'>237</a>\u001b[0m     separators\u001b[39m=\u001b[39;49mseparators, default\u001b[39m=\u001b[39;49mdefault, sort_keys\u001b[39m=\u001b[39;49msort_keys,\n\u001b[0;32m--> <a href='file:///Users/matthewteta/miniconda3/envs/default/lib/python3.10/json/__init__.py?line=237'>238</a>\u001b[0m     \u001b[39m*\u001b[39;49m\u001b[39m*\u001b[39;49mkw)\u001b[39m.\u001b[39;49mencode(obj)\n",
      "File \u001b[0;32m~/miniconda3/envs/default/lib/python3.10/site-packages/_plotly_utils/utils.py:59\u001b[0m, in \u001b[0;36mPlotlyJSONEncoder.encode\u001b[0;34m(self, o)\u001b[0m\n\u001b[1;32m     <a href='file:///Users/matthewteta/miniconda3/envs/default/lib/python3.10/site-packages/_plotly_utils/utils.py?line=51'>52</a>\u001b[0m \u001b[39m\"\"\"\u001b[39;00m\n\u001b[1;32m     <a href='file:///Users/matthewteta/miniconda3/envs/default/lib/python3.10/site-packages/_plotly_utils/utils.py?line=52'>53</a>\u001b[0m \u001b[39mLoad and then dump the result using parse_constant kwarg\u001b[39;00m\n\u001b[1;32m     <a href='file:///Users/matthewteta/miniconda3/envs/default/lib/python3.10/site-packages/_plotly_utils/utils.py?line=53'>54</a>\u001b[0m \n\u001b[1;32m     <a href='file:///Users/matthewteta/miniconda3/envs/default/lib/python3.10/site-packages/_plotly_utils/utils.py?line=54'>55</a>\u001b[0m \u001b[39mNote that setting invalid separators will cause a failure at this step.\u001b[39;00m\n\u001b[1;32m     <a href='file:///Users/matthewteta/miniconda3/envs/default/lib/python3.10/site-packages/_plotly_utils/utils.py?line=55'>56</a>\u001b[0m \n\u001b[1;32m     <a href='file:///Users/matthewteta/miniconda3/envs/default/lib/python3.10/site-packages/_plotly_utils/utils.py?line=56'>57</a>\u001b[0m \u001b[39m\"\"\"\u001b[39;00m\n\u001b[1;32m     <a href='file:///Users/matthewteta/miniconda3/envs/default/lib/python3.10/site-packages/_plotly_utils/utils.py?line=57'>58</a>\u001b[0m \u001b[39m# this will raise errors in a normal-expected way\u001b[39;00m\n\u001b[0;32m---> <a href='file:///Users/matthewteta/miniconda3/envs/default/lib/python3.10/site-packages/_plotly_utils/utils.py?line=58'>59</a>\u001b[0m encoded_o \u001b[39m=\u001b[39m \u001b[39msuper\u001b[39;49m(PlotlyJSONEncoder, \u001b[39mself\u001b[39;49m)\u001b[39m.\u001b[39;49mencode(o)\n\u001b[1;32m     <a href='file:///Users/matthewteta/miniconda3/envs/default/lib/python3.10/site-packages/_plotly_utils/utils.py?line=59'>60</a>\u001b[0m \u001b[39m# Brute force guessing whether NaN or Infinity values are in the string\u001b[39;00m\n\u001b[1;32m     <a href='file:///Users/matthewteta/miniconda3/envs/default/lib/python3.10/site-packages/_plotly_utils/utils.py?line=60'>61</a>\u001b[0m \u001b[39m# We catch false positive cases (e.g. strings such as titles, labels etc.)\u001b[39;00m\n\u001b[1;32m     <a href='file:///Users/matthewteta/miniconda3/envs/default/lib/python3.10/site-packages/_plotly_utils/utils.py?line=61'>62</a>\u001b[0m \u001b[39m# but this is ok since the intention is to skip the decoding / reencoding\u001b[39;00m\n\u001b[1;32m     <a href='file:///Users/matthewteta/miniconda3/envs/default/lib/python3.10/site-packages/_plotly_utils/utils.py?line=62'>63</a>\u001b[0m \u001b[39m# step when it's completely safe\u001b[39;00m\n\u001b[1;32m     <a href='file:///Users/matthewteta/miniconda3/envs/default/lib/python3.10/site-packages/_plotly_utils/utils.py?line=64'>65</a>\u001b[0m \u001b[39mif\u001b[39;00m \u001b[39mnot\u001b[39;00m (\u001b[39m\"\u001b[39m\u001b[39mNaN\u001b[39m\u001b[39m\"\u001b[39m \u001b[39min\u001b[39;00m encoded_o \u001b[39mor\u001b[39;00m \u001b[39m\"\u001b[39m\u001b[39mInfinity\u001b[39m\u001b[39m\"\u001b[39m \u001b[39min\u001b[39;00m encoded_o):\n",
      "File \u001b[0;32m~/miniconda3/envs/default/lib/python3.10/json/encoder.py:199\u001b[0m, in \u001b[0;36mJSONEncoder.encode\u001b[0;34m(self, o)\u001b[0m\n\u001b[1;32m    <a href='file:///Users/matthewteta/miniconda3/envs/default/lib/python3.10/json/encoder.py?line=194'>195</a>\u001b[0m         \u001b[39mreturn\u001b[39;00m encode_basestring(o)\n\u001b[1;32m    <a href='file:///Users/matthewteta/miniconda3/envs/default/lib/python3.10/json/encoder.py?line=195'>196</a>\u001b[0m \u001b[39m# This doesn't pass the iterator directly to ''.join() because the\u001b[39;00m\n\u001b[1;32m    <a href='file:///Users/matthewteta/miniconda3/envs/default/lib/python3.10/json/encoder.py?line=196'>197</a>\u001b[0m \u001b[39m# exceptions aren't as detailed.  The list call should be roughly\u001b[39;00m\n\u001b[1;32m    <a href='file:///Users/matthewteta/miniconda3/envs/default/lib/python3.10/json/encoder.py?line=197'>198</a>\u001b[0m \u001b[39m# equivalent to the PySequence_Fast that ''.join() would do.\u001b[39;00m\n\u001b[0;32m--> <a href='file:///Users/matthewteta/miniconda3/envs/default/lib/python3.10/json/encoder.py?line=198'>199</a>\u001b[0m chunks \u001b[39m=\u001b[39m \u001b[39mself\u001b[39;49m\u001b[39m.\u001b[39;49miterencode(o, _one_shot\u001b[39m=\u001b[39;49m\u001b[39mTrue\u001b[39;49;00m)\n\u001b[1;32m    <a href='file:///Users/matthewteta/miniconda3/envs/default/lib/python3.10/json/encoder.py?line=199'>200</a>\u001b[0m \u001b[39mif\u001b[39;00m \u001b[39mnot\u001b[39;00m \u001b[39misinstance\u001b[39m(chunks, (\u001b[39mlist\u001b[39m, \u001b[39mtuple\u001b[39m)):\n\u001b[1;32m    <a href='file:///Users/matthewteta/miniconda3/envs/default/lib/python3.10/json/encoder.py?line=200'>201</a>\u001b[0m     chunks \u001b[39m=\u001b[39m \u001b[39mlist\u001b[39m(chunks)\n",
      "File \u001b[0;32m~/miniconda3/envs/default/lib/python3.10/json/encoder.py:257\u001b[0m, in \u001b[0;36mJSONEncoder.iterencode\u001b[0;34m(self, o, _one_shot)\u001b[0m\n\u001b[1;32m    <a href='file:///Users/matthewteta/miniconda3/envs/default/lib/python3.10/json/encoder.py?line=251'>252</a>\u001b[0m \u001b[39melse\u001b[39;00m:\n\u001b[1;32m    <a href='file:///Users/matthewteta/miniconda3/envs/default/lib/python3.10/json/encoder.py?line=252'>253</a>\u001b[0m     _iterencode \u001b[39m=\u001b[39m _make_iterencode(\n\u001b[1;32m    <a href='file:///Users/matthewteta/miniconda3/envs/default/lib/python3.10/json/encoder.py?line=253'>254</a>\u001b[0m         markers, \u001b[39mself\u001b[39m\u001b[39m.\u001b[39mdefault, _encoder, \u001b[39mself\u001b[39m\u001b[39m.\u001b[39mindent, floatstr,\n\u001b[1;32m    <a href='file:///Users/matthewteta/miniconda3/envs/default/lib/python3.10/json/encoder.py?line=254'>255</a>\u001b[0m         \u001b[39mself\u001b[39m\u001b[39m.\u001b[39mkey_separator, \u001b[39mself\u001b[39m\u001b[39m.\u001b[39mitem_separator, \u001b[39mself\u001b[39m\u001b[39m.\u001b[39msort_keys,\n\u001b[1;32m    <a href='file:///Users/matthewteta/miniconda3/envs/default/lib/python3.10/json/encoder.py?line=255'>256</a>\u001b[0m         \u001b[39mself\u001b[39m\u001b[39m.\u001b[39mskipkeys, _one_shot)\n\u001b[0;32m--> <a href='file:///Users/matthewteta/miniconda3/envs/default/lib/python3.10/json/encoder.py?line=256'>257</a>\u001b[0m \u001b[39mreturn\u001b[39;00m _iterencode(o, \u001b[39m0\u001b[39;49m)\n",
      "File \u001b[0;32m~/miniconda3/envs/default/lib/python3.10/site-packages/_plotly_utils/utils.py:133\u001b[0m, in \u001b[0;36mPlotlyJSONEncoder.default\u001b[0;34m(self, obj)\u001b[0m\n\u001b[1;32m    <a href='file:///Users/matthewteta/miniconda3/envs/default/lib/python3.10/site-packages/_plotly_utils/utils.py?line=130'>131</a>\u001b[0m \u001b[39mfor\u001b[39;00m encoding_method \u001b[39min\u001b[39;00m encoding_methods:\n\u001b[1;32m    <a href='file:///Users/matthewteta/miniconda3/envs/default/lib/python3.10/site-packages/_plotly_utils/utils.py?line=131'>132</a>\u001b[0m     \u001b[39mtry\u001b[39;00m:\n\u001b[0;32m--> <a href='file:///Users/matthewteta/miniconda3/envs/default/lib/python3.10/site-packages/_plotly_utils/utils.py?line=132'>133</a>\u001b[0m         \u001b[39mreturn\u001b[39;00m encoding_method(obj)\n\u001b[1;32m    <a href='file:///Users/matthewteta/miniconda3/envs/default/lib/python3.10/site-packages/_plotly_utils/utils.py?line=133'>134</a>\u001b[0m     \u001b[39mexcept\u001b[39;00m NotEncodable:\n\u001b[1;32m    <a href='file:///Users/matthewteta/miniconda3/envs/default/lib/python3.10/site-packages/_plotly_utils/utils.py?line=134'>135</a>\u001b[0m         \u001b[39mpass\u001b[39;00m\n",
      "\u001b[0;31mKeyboardInterrupt\u001b[0m: "
     ]
    }
   ],
   "source": [
    "px.histogram(dataset['data'], x='date')"
   ]
  },
  {
   "cell_type": "code",
   "execution_count": null,
   "metadata": {},
   "outputs": [],
   "source": []
  }
 ],
 "metadata": {
  "interpreter": {
   "hash": "41d03f06705265104379471cdaa41de590498da5c19e86f84e10729a8e09410c"
  },
  "kernelspec": {
   "display_name": "Python 3.10.0 ('default')",
   "language": "python",
   "name": "python3"
  },
  "language_info": {
   "codemirror_mode": {
    "name": "ipython",
    "version": 3
   },
   "file_extension": ".py",
   "mimetype": "text/x-python",
   "name": "python",
   "nbconvert_exporter": "python",
   "pygments_lexer": "ipython3",
   "version": "3.10.0"
  },
  "orig_nbformat": 4
 },
 "nbformat": 4,
 "nbformat_minor": 2
}
